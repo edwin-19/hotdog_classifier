{
 "cells": [
  {
   "cell_type": "code",
   "execution_count": 1,
   "metadata": {},
   "outputs": [],
   "source": [
    "import tensorflow as tf\n",
    "from sklearn.model_selection import train_test_split\n",
    "from sklearn.metrics import classification_report, confusion_matrix, roc_auc_score, matthews_corrcoef\n",
    "import glob\n",
    "import os\n",
    "\n",
    "import numpy as np\n",
    "import cv2 \n",
    "import seaborn as sns\n",
    "from matplotlib import pyplot as plt"
   ]
  },
  {
   "cell_type": "code",
   "execution_count": 2,
   "metadata": {},
   "outputs": [],
   "source": [
    "input_size = (None, 224, 224, 3)\n",
    "input_shape = (224, 224, 3)\n",
    "batch_size = 64\n",
    "epochs = 20\n",
    "learning_rate = 1e-4"
   ]
  },
  {
   "cell_type": "markdown",
   "metadata": {},
   "source": [
    "# Model\n",
    "- Choose to load only 1 of 2 models but both have the same architecutre"
   ]
  },
  {
   "cell_type": "code",
   "execution_count": null,
   "metadata": {},
   "outputs": [],
   "source": [
    "# This runs the sub class api of the model\n",
    "class SimpleCNN(tf.keras.Model):\n",
    "    def __init__(self, input_shape=(224, 224, 3), num_classes=2, is_pretrained=True):\n",
    "        super(SimpleCNN, self).__init__()\n",
    "        \n",
    "        self.is_pretrained = is_pretrained\n",
    "        if is_pretrained:\n",
    "            self.network = tf.keras.applications.mobilenet_v2.MobileNetV2(include_top=False, input_shape=input_shape)\n",
    "            self.network.trainable = False\n",
    "        else:\n",
    "            self.conv1 = tf.keras.layers.Conv2D(32, (3, 3), padding='same')\n",
    "            self.conv2 = tf.keras.layers.Conv2D(64, (3, 3))\n",
    "            self.conv3 = tf.keras.layers.Conv2D(128, (3, 3))\n",
    "\n",
    "            self.maxpool = tf.keras.layers.MaxPooling2D((2, 2))\n",
    "        \n",
    "        self.relu = tf.keras.layers.Activation('relu')\n",
    "        self.flatten = tf.keras.layers.GlobalAveragePooling2D()\n",
    "        self.fc1 = tf.keras.layers.Dense(128)\n",
    "        self.fc2 = tf.keras.layers.Dense(num_classes, activation='softmax')\n",
    "    \n",
    "    @tf.function\n",
    "    def call(self, x):\n",
    "        if self.is_pretrained:\n",
    "            x = self.network(x)\n",
    "        else:\n",
    "            x = self.conv1(x)\n",
    "            x = self.maxpool(x)\n",
    "            x = self.relu(x)\n",
    "\n",
    "            x = self.conv2(x)\n",
    "            x = self.maxpool(x)\n",
    "            x = self.relu(x)\n",
    "\n",
    "            x = self.conv3(x)\n",
    "            x = self.maxpool(x)\n",
    "            x = self.relu(x)\n",
    "        \n",
    "        x = self.flatten(x)\n",
    "        x = self.fc1(x)\n",
    "        x = self.relu(x)\n",
    "        \n",
    "        x = self.fc2(x)\n",
    "        \n",
    "        return x"
   ]
  },
  {
   "cell_type": "code",
   "execution_count": null,
   "metadata": {},
   "outputs": [],
   "source": [
    "cnn = SimpleCNN(is_pretrained=True)\n",
    "cnn.build(input_size)\n",
    "cnn.compile(\n",
    "    loss='binary_crossentropy',\n",
    "    optimizer=tf.keras.optimizers.Adam(learning_rate),\n",
    "    metrics=['accuracy']\n",
    ")\n",
    "cnn.summary()"
   ]
  },
  {
   "cell_type": "code",
   "execution_count": 3,
   "metadata": {},
   "outputs": [],
   "source": [
    "# This runs the functional API to load\n",
    "inputs = tf.keras.layers.Input(shape=input_shape, name='image_input')\n",
    "\n",
    "base_model = tf.keras.applications.mobilenet_v2.MobileNetV2(include_top=False, input_shape=input_shape)\n",
    "base_model.trainable = False\n",
    "x = base_model(inputs)\n",
    "\n",
    "x = tf.keras.layers.GlobalAveragePooling2D()(x)\n",
    "x = tf.keras.layers.Dense(128, activation='relu')(x)\n",
    "output_pred = tf.keras.layers.Dense(2, activation='softmax', name='outputs')(x)\n",
    "\n",
    "cnn = tf.keras.Model(inputs=inputs, outputs=output_pred)"
   ]
  },
  {
   "cell_type": "code",
   "execution_count": 4,
   "metadata": {},
   "outputs": [
    {
     "name": "stdout",
     "output_type": "stream",
     "text": [
      "Model: \"functional_1\"\n",
      "_________________________________________________________________\n",
      "Layer (type)                 Output Shape              Param #   \n",
      "=================================================================\n",
      "image_input (InputLayer)     [(None, 224, 224, 3)]     0         \n",
      "_________________________________________________________________\n",
      "mobilenetv2_1.00_224 (Functi (None, 7, 7, 1280)        2257984   \n",
      "_________________________________________________________________\n",
      "global_average_pooling2d (Gl (None, 1280)              0         \n",
      "_________________________________________________________________\n",
      "dense (Dense)                (None, 128)               163968    \n",
      "_________________________________________________________________\n",
      "outputs (Dense)              (None, 2)                 258       \n",
      "=================================================================\n",
      "Total params: 2,422,210\n",
      "Trainable params: 164,226\n",
      "Non-trainable params: 2,257,984\n",
      "_________________________________________________________________\n"
     ]
    }
   ],
   "source": [
    "cnn.compile(\n",
    "    loss='binary_crossentropy',\n",
    "    optimizer=tf.keras.optimizers.Adam(learning_rate),\n",
    "    metrics=['accuracy']\n",
    ")\n",
    "cnn.summary()"
   ]
  },
  {
   "cell_type": "markdown",
   "metadata": {},
   "source": [
    "# Load Data"
   ]
  },
  {
   "cell_type": "code",
   "execution_count": 5,
   "metadata": {},
   "outputs": [],
   "source": [
    "images_path = glob.glob('data/**/*.jpg', recursive=True)\n",
    "labels = {\n",
    "    'not_hot_dog': 0,\n",
    "    'hot_dog': 1\n",
    "}"
   ]
  },
  {
   "cell_type": "code",
   "execution_count": 6,
   "metadata": {},
   "outputs": [],
   "source": [
    "image_labels = []\n",
    "image_data = []\n",
    "for path in images_path:\n",
    "    image_labels.append(labels[os.path.basename(os.path.dirname(path))])\n",
    "    image_data.append(path)"
   ]
  },
  {
   "cell_type": "code",
   "execution_count": 7,
   "metadata": {},
   "outputs": [],
   "source": [
    "train_data, test_data, train_labels, test_labels = train_test_split(image_data, image_labels, stratify=image_labels, random_state=2000, test_size=0.2)"
   ]
  },
  {
   "cell_type": "code",
   "execution_count": 8,
   "metadata": {},
   "outputs": [],
   "source": [
    "def parse_function(image_file_path, label):\n",
    "    image_string = tf.io.read_file(image_file_path)\n",
    "    image = tf.image.decode_jpeg(image_string)\n",
    "    image = tf.cast(image, tf.float32)\n",
    "    image = tf.image.resize(image, [224, 224])\n",
    "    image = (image / 127.5) - 1 # [-1 to 1] range, forgot about mobilenet range\n",
    "\n",
    "    return image, tf.one_hot(label, depth=2)\n",
    "    \n",
    "train_dataset = tf.data.Dataset.from_tensor_slices((train_data, train_labels))\\\n",
    "                .map(parse_function)\\\n",
    "                .batch(batch_size)\\\n",
    "                .shuffle(len(train_data))\\\n",
    "                .cache()\\\n",
    "                .prefetch(tf.data.experimental.AUTOTUNE)\n",
    "\n",
    "test_dataset = tf.data.Dataset.from_tensor_slices((test_data, test_labels))\\\n",
    "                .map(parse_function)\\\n",
    "                .batch(batch_size)\\\n",
    "                .cache()\\\n",
    "                .prefetch(tf.data.experimental.AUTOTUNE)"
   ]
  },
  {
   "cell_type": "code",
   "execution_count": 9,
   "metadata": {},
   "outputs": [],
   "source": [
    "early_stopping = tf.keras.callbacks.EarlyStopping(\n",
    "    monitor='val_accuracy', mode='max', patience=10, verbose=1, min_delta=0.001\n",
    ")\n",
    "reduce_lr = tf.keras.callbacks.ReduceLROnPlateau(\n",
    "    monitor='val_accuracy', mode='max', patience=5, verbose=1, min_delta=0.001\n",
    ")"
   ]
  },
  {
   "cell_type": "code",
   "execution_count": 10,
   "metadata": {
    "scrolled": true
   },
   "outputs": [
    {
     "name": "stdout",
     "output_type": "stream",
     "text": [
      "Epoch 1/20\n",
      "13/13 [==============================] - 2s 156ms/step - loss: 0.5395 - accuracy: 0.7268 - val_loss: 0.3850 - val_accuracy: 0.8500\n",
      "Epoch 2/20\n",
      "13/13 [==============================] - 1s 80ms/step - loss: 0.3488 - accuracy: 0.8634 - val_loss: 0.2864 - val_accuracy: 0.9150\n",
      "Epoch 3/20\n",
      "13/13 [==============================] - 1s 79ms/step - loss: 0.2791 - accuracy: 0.8910 - val_loss: 0.2479 - val_accuracy: 0.9150\n",
      "Epoch 4/20\n",
      "13/13 [==============================] - 1s 76ms/step - loss: 0.2413 - accuracy: 0.9148 - val_loss: 0.2272 - val_accuracy: 0.9150\n",
      "Epoch 5/20\n",
      "13/13 [==============================] - 1s 75ms/step - loss: 0.2146 - accuracy: 0.9261 - val_loss: 0.2156 - val_accuracy: 0.9150\n",
      "Epoch 6/20\n",
      "13/13 [==============================] - 1s 76ms/step - loss: 0.1935 - accuracy: 0.9348 - val_loss: 0.2064 - val_accuracy: 0.9250\n",
      "Epoch 7/20\n",
      "13/13 [==============================] - 1s 76ms/step - loss: 0.1757 - accuracy: 0.9461 - val_loss: 0.1992 - val_accuracy: 0.9300\n",
      "Epoch 8/20\n",
      "13/13 [==============================] - 1s 76ms/step - loss: 0.1604 - accuracy: 0.9524 - val_loss: 0.1926 - val_accuracy: 0.9300\n",
      "Epoch 9/20\n",
      "13/13 [==============================] - 1s 76ms/step - loss: 0.1471 - accuracy: 0.9586 - val_loss: 0.1875 - val_accuracy: 0.9300\n",
      "Epoch 10/20\n",
      "13/13 [==============================] - 1s 76ms/step - loss: 0.1353 - accuracy: 0.9624 - val_loss: 0.1829 - val_accuracy: 0.9350\n",
      "Epoch 11/20\n",
      "13/13 [==============================] - 1s 78ms/step - loss: 0.1248 - accuracy: 0.9662 - val_loss: 0.1788 - val_accuracy: 0.9350\n",
      "Epoch 12/20\n",
      "13/13 [==============================] - 1s 76ms/step - loss: 0.1153 - accuracy: 0.9699 - val_loss: 0.1755 - val_accuracy: 0.9350\n",
      "Epoch 13/20\n",
      "13/13 [==============================] - 1s 78ms/step - loss: 0.1068 - accuracy: 0.9749 - val_loss: 0.1725 - val_accuracy: 0.9350\n",
      "Epoch 14/20\n",
      "13/13 [==============================] - 1s 76ms/step - loss: 0.0991 - accuracy: 0.9799 - val_loss: 0.1697 - val_accuracy: 0.9350\n",
      "Epoch 15/20\n",
      "13/13 [==============================] - 1s 76ms/step - loss: 0.0921 - accuracy: 0.9825 - val_loss: 0.1676 - val_accuracy: 0.9400\n",
      "Epoch 16/20\n",
      "13/13 [==============================] - 1s 76ms/step - loss: 0.0857 - accuracy: 0.9837 - val_loss: 0.1653 - val_accuracy: 0.9450\n",
      "Epoch 17/20\n",
      "13/13 [==============================] - 1s 76ms/step - loss: 0.0797 - accuracy: 0.9862 - val_loss: 0.1635 - val_accuracy: 0.9450\n",
      "Epoch 18/20\n",
      "13/13 [==============================] - 1s 76ms/step - loss: 0.0743 - accuracy: 0.9875 - val_loss: 0.1618 - val_accuracy: 0.9450\n",
      "Epoch 19/20\n",
      "13/13 [==============================] - 1s 76ms/step - loss: 0.0693 - accuracy: 0.9900 - val_loss: 0.1604 - val_accuracy: 0.9450\n",
      "Epoch 20/20\n",
      "13/13 [==============================] - 1s 76ms/step - loss: 0.0647 - accuracy: 0.9900 - val_loss: 0.1592 - val_accuracy: 0.9450\n"
     ]
    }
   ],
   "source": [
    "history = cnn.fit(\n",
    "    train_dataset,\n",
    "    batch_size=batch_size,\n",
    "    epochs=epochs,\n",
    "    validation_data=test_dataset,\n",
    "    callbacks=[early_stopping, reduce_lr]\n",
    ")"
   ]
  },
  {
   "cell_type": "code",
   "execution_count": 11,
   "metadata": {},
   "outputs": [
    {
     "data": {
      "text/plain": [
       "<matplotlib.legend.Legend at 0x7f9bec648f10>"
      ]
     },
     "execution_count": 11,
     "metadata": {},
     "output_type": "execute_result"
    },
    {
     "data": {
      "image/png": "[encoded data removed]",
      "text/plain": [
       "<Figure size 1080x720 with 2 Axes>"
      ]
     },
     "metadata": {
      "needs_background": "light"
     },
     "output_type": "display_data"
    }
   ],
   "source": [
    "# Plot accuracy\n",
    "plt.figure(figsize=(15, 10))\n",
    "plt.subplot(221)\n",
    "plt.title('Loss')\n",
    "plt.plot(history.history['loss'], label='train_loss')\n",
    "plt.plot(history.history['val_loss'], label='val_loss')\n",
    "\n",
    "plt.legend()\n",
    "\n",
    "plt.subplot(222)\n",
    "plt.title('Accuracy')\n",
    "plt.plot(history.history['accuracy'], label='train_acc')\n",
    "plt.plot(history.history['val_accuracy'], label='val_acc')\n",
    "plt.legend()"
   ]
  },
  {
   "cell_type": "markdown",
   "metadata": {},
   "source": [
    "# Evaluation"
   ]
  },
  {
   "cell_type": "code",
   "execution_count": 12,
   "metadata": {},
   "outputs": [],
   "source": [
    "y_pred = cnn.predict(test_dataset).argmax(axis=1)"
   ]
  },
  {
   "cell_type": "code",
   "execution_count": 13,
   "metadata": {},
   "outputs": [
    {
     "name": "stdout",
     "output_type": "stream",
     "text": [
      "              precision    recall  f1-score   support\n",
      "\n",
      "           0       0.92      0.98      0.95       100\n",
      "           1       0.98      0.91      0.94       100\n",
      "\n",
      "    accuracy                           0.94       200\n",
      "   macro avg       0.95      0.95      0.94       200\n",
      "weighted avg       0.95      0.94      0.94       200\n",
      "\n"
     ]
    }
   ],
   "source": [
    "print(classification_report(test_labels, y_pred))"
   ]
  },
  {
   "cell_type": "code",
   "execution_count": 14,
   "metadata": {},
   "outputs": [
    {
     "data": {
      "text/plain": [
       "<AxesSubplot:>"
      ]
     },
     "execution_count": 14,
     "metadata": {},
     "output_type": "execute_result"
    },
    {
     "data": {
      "image/png": "[encoded data removed]",
      "text/plain": [
       "<Figure size 720x576 with 2 Axes>"
      ]
     },
     "metadata": {
      "needs_background": "light"
     },
     "output_type": "display_data"
    }
   ],
   "source": [
    "plt.figure(figsize=(10, 8))\n",
    "sns.heatmap(\n",
    "    confusion_matrix(test_labels, y_pred), fmt='', annot=True, \n",
    "    xticklabels=list(labels.keys()), yticklabels=list(labels.keys())\n",
    ")"
   ]
  },
  {
   "cell_type": "code",
   "execution_count": 15,
   "metadata": {},
   "outputs": [
    {
     "name": "stdout",
     "output_type": "stream",
     "text": [
      "Roc: 0.94\n",
      "MCC: 0.89\n"
     ]
    }
   ],
   "source": [
    "print('Roc: {}\\nMCC: {}'.format(\n",
    "    round(roc_auc_score(test_labels, y_pred, average='macro'), 2), \n",
    "    round(matthews_corrcoef(test_labels, y_pred), 2))\n",
    ")"
   ]
  },
  {
   "cell_type": "markdown",
   "metadata": {},
   "source": [
    "# Save model"
   ]
  },
  {
   "cell_type": "code",
   "execution_count": 16,
   "metadata": {},
   "outputs": [],
   "source": [
    "# Save for the functional api\n",
    "cnn.save('weights/mobilnet_hd_func.h5')"
   ]
  },
  {
   "cell_type": "code",
   "execution_count": null,
   "metadata": {},
   "outputs": [],
   "source": [
    "# If your using submodel api\n",
    "tf.saved_model.save(cnn, 'weights/mobilenet_hd')"
   ]
  }
 ],
 "metadata": {
  "kernelspec": {
   "display_name": "Python 3",
   "language": "python",
   "name": "python3"
  },
  "language_info": {
   "codemirror_mode": {
    "name": "ipython",
    "version": 3
   },
   "file_extension": ".py",
   "mimetype": "text/x-python",
   "name": "python",
   "nbconvert_exporter": "python",
   "pygments_lexer": "ipython3",
   "version": "3.8.5"
  }
 },
 "nbformat": 4,
 "nbformat_minor": 4
}
