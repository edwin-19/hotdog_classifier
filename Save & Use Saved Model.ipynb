{
 "cells": [
  {
   "cell_type": "code",
   "execution_count": 33,
   "id": "written-malaysia",
   "metadata": {},
   "outputs": [],
   "source": [
    "import tensorflow as tf\n",
    "\n",
    "import numpy as np\n",
    "import glob\n",
    "from matplotlib import pyplot as plt"
   ]
  },
  {
   "cell_type": "code",
   "execution_count": 46,
   "id": "least-grant",
   "metadata": {},
   "outputs": [],
   "source": [
    "model = tf.keras.models.load_model('weights/mobilnet_hd_func.h5', compile=False)"
   ]
  },
  {
   "cell_type": "code",
   "execution_count": null,
   "id": "adjacent-electronics",
   "metadata": {},
   "outputs": [],
   "source": [
    "model.summary()"
   ]
  },
  {
   "cell_type": "code",
   "execution_count": null,
   "id": "round-appliance",
   "metadata": {},
   "outputs": [],
   "source": [
    "tf.saved_model.save(model, 'weights/mobilenet_hd')"
   ]
  },
  {
   "cell_type": "markdown",
   "id": "reduced-australia",
   "metadata": {},
   "source": [
    "# Load saved model"
   ]
  },
  {
   "cell_type": "code",
   "execution_count": 38,
   "id": "original-mumbai",
   "metadata": {},
   "outputs": [],
   "source": [
    "labels = {\n",
    "    0: 'not hot dog',\n",
    "    1: 'hot dog'\n",
    "}"
   ]
  },
  {
   "cell_type": "code",
   "execution_count": 44,
   "id": "mounted-research",
   "metadata": {},
   "outputs": [],
   "source": [
    "model = tf.saved_model.load('weights/mobilenet_hd/')"
   ]
  },
  {
   "cell_type": "code",
   "execution_count": 45,
   "id": "consolidated-alarm",
   "metadata": {},
   "outputs": [],
   "source": [
    "infer = model.signatures['serving_default']"
   ]
  },
  {
   "cell_type": "code",
   "execution_count": 5,
   "id": "molecular-strengthening",
   "metadata": {},
   "outputs": [],
   "source": [
    "images = glob.glob('data/test/**/*.jpg', recursive=True)"
   ]
  },
  {
   "cell_type": "code",
   "execution_count": null,
   "id": "thrown-friend",
   "metadata": {},
   "outputs": [],
   "source": [
    "459 ms ± 3.53 ms per loop (mean ± std. dev. of 7 runs, 1 loop each)"
   ]
  },
  {
   "cell_type": "code",
   "execution_count": null,
   "id": "hollow-appearance",
   "metadata": {},
   "outputs": [],
   "source": [
    "%%timeit\n",
    "row, column, count = 3, 5, 0\n",
    "\n",
    "plt.figure(figsize=(15, 10))\n",
    "for image in np.random.choice(images, 15):\n",
    "    img = tf.io.decode_jpeg(tf.io.read_file(image))\n",
    "    img_pre = tf.cast(img, tf.float32)\n",
    "    img_pre = img_pre / 255.\n",
    "    img_pre = tf.image.resize(img_pre, [224, 224])\n",
    "    img_pre = tf.expand_dims(img_pre, axis=0)\n",
    "#     preds = infer(img_pre)['outputs']\n",
    "    preds = model.predict(img_pre)\n",
    "    preds = tf.squeeze(preds, axis=0)\n",
    "    \n",
    "    label = labels[preds.numpy().argmax()]\n",
    "    count += 1\n",
    "    plt.subplot(row, column, count)\n",
    "    plt.title(label + ' : ' + str(round(preds.numpy().max() * 100, 2)))\n",
    "    plt.imshow(tf.cast(img_pre[0] * 255, tf.uint8))\n",
    "    \n",
    "plt.tight_layout()"
   ]
  }
 ],
 "metadata": {
  "kernelspec": {
   "display_name": "Python 3",
   "language": "python",
   "name": "python3"
  },
  "language_info": {
   "codemirror_mode": {
    "name": "ipython",
    "version": 3
   },
   "file_extension": ".py",
   "mimetype": "text/x-python",
   "name": "python",
   "nbconvert_exporter": "python",
   "pygments_lexer": "ipython3",
   "version": "3.8.5"
  }
 },
 "nbformat": 4,
 "nbformat_minor": 5
}
